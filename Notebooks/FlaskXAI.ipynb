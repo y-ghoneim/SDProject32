{
 "cells": [
  {
   "cell_type": "code",
   "execution_count": 1,
   "metadata": {},
   "outputs": [],
   "source": [
    "import pandas as pd\n",
    "import matplotlib.pyplot as plt\n",
    "import shap\n",
    "import joblib"
   ]
  },
  {
   "cell_type": "code",
   "execution_count": 23,
   "metadata": {},
   "outputs": [
    {
     "name": "stdout",
     "output_type": "stream",
     "text": [
      "1\n"
     ]
    }
   ],
   "source": [
    "# Load the LightGBM model\n",
    "model = joblib.load('../lightgbm_model.joblib')\n",
    "\n",
    "# Load the test dataset\n",
    "X_test = pd.read_csv('../Dataset/xtest.csv')\n",
    "\n",
    "# Randomly sample a row from the test dataset\n",
    "single_record = X_test.sample(n=1)\n",
    "\n",
    "# Predict the outcome using the model\n",
    "prediction = model.predict(single_record)\n",
    "\n",
    "print(prediction[0])"
   ]
  },
  {
   "cell_type": "code",
   "execution_count": null,
   "metadata": {},
   "outputs": [],
   "source": [
    "intro = \"The following 3 variables most significantly influenced the prediction (in order of most to least):\"\n",
    "details = []\n",
    "# Enumerate gives you both an index (starting from 0 by default) and the value\n",
    "for count, (idx, row) in enumerate(top_features.iterrows(), start=1):\n",
    "    details.append(f\"{count}. {row['feature']}\")\n",
    "explanation = f\"{intro}\\n\" + \"\\n\".join(details)\n",
    "print(explanation)"
   ]
  },
  {
   "cell_type": "markdown",
   "metadata": {},
   "source": [
    "# Codeblock to use for Flask App"
   ]
  },
  {
   "cell_type": "code",
   "execution_count": 27,
   "metadata": {},
   "outputs": [
    {
     "name": "stdout",
     "output_type": "stream",
     "text": [
      "The following 3 variables most significantly influenced the prediction (in order of most to least):\n",
      "1. mean_HR_sleep\n",
      "2. Heart Rate\n",
      "3. RR_var_sleep\n"
     ]
    },
    {
     "name": "stderr",
     "output_type": "stream",
     "text": [
      "C:\\Users\\ACER\\AppData\\Local\\Packages\\PythonSoftwareFoundation.Python.3.11_qbz5n2kfra8p0\\LocalCache\\local-packages\\Python311\\site-packages\\shap\\explainers\\_tree.py:448: UserWarning: LightGBM binary classifier with TreeExplainer shap values output has changed to a list of ndarray\n",
      "  warnings.warn('LightGBM binary classifier with TreeExplainer shap values output has changed to a list of ndarray')\n"
     ]
    }
   ],
   "source": [
    "# Initialize the SHAP Explainer\n",
    "explainer = shap.TreeExplainer(model)\n",
    "\n",
    "# Calculate SHAP values for the sampled row\n",
    "shap_values = explainer.shap_values(single_record)\n",
    "\n",
    "# Check if the SHAP values are in the expected format (list with one element)\n",
    "if isinstance(shap_values, list):\n",
    "    shap_values_single = shap_values[0]  # shap_values[0] will contain the actual SHAP values for binary classification\n",
    "else:\n",
    "    shap_values_single = shap_values\n",
    "\n",
    "# Create a DataFrame for SHAP values\n",
    "feature_names = X_test.columns\n",
    "shap_df = pd.DataFrame({\n",
    "    'feature': feature_names,\n",
    "    'shap_value': shap_values_single[0]  # Assuming shap_values_single is correctly formatted for single instance\n",
    "})\n",
    "shap_df['abs_shap_value'] = shap_df['shap_value'].abs()\n",
    "top_features = shap_df.sort_values(by='shap_value', ascending=False)\n",
    "\n",
    "intro = \"The following 3 variables most significantly influenced the prediction (in order of most to least):\"\n",
    "details = []\n",
    "# Enumerate gives you both an index (starting from 0 by default) and the value\n",
    "for count, (idx, row) in enumerate(top_features.head(3).iterrows(), start=1):\n",
    "    details.append(f\"{count}. {row['feature']}\")\n",
    "explanation = f\"{intro}\\n\" + \"\\n\".join(details)\n",
    "print(explanation)"
   ]
  },
  {
   "cell_type": "code",
   "execution_count": 28,
   "metadata": {},
   "outputs": [
    {
     "name": "stderr",
     "output_type": "stream",
     "text": [
      "C:\\Users\\ACER\\AppData\\Local\\Temp\\ipykernel_20572\\2689151352.py:2: SettingWithCopyWarning: \n",
      "A value is trying to be set on a copy of a slice from a DataFrame\n",
      "\n",
      "See the caveats in the documentation: https://pandas.pydata.org/pandas-docs/stable/user_guide/indexing.html#returning-a-view-versus-a-copy\n",
      "  top_features_new.loc[len(top_features.index)] = ['Other', sum(top_features['shap_value'][3:]), sum(top_features['abs_shap_value'][3:])]\n"
     ]
    },
    {
     "data": {
      "text/html": [
       "<div>\n",
       "<style scoped>\n",
       "    .dataframe tbody tr th:only-of-type {\n",
       "        vertical-align: middle;\n",
       "    }\n",
       "\n",
       "    .dataframe tbody tr th {\n",
       "        vertical-align: top;\n",
       "    }\n",
       "\n",
       "    .dataframe thead th {\n",
       "        text-align: right;\n",
       "    }\n",
       "</style>\n",
       "<table border=\"1\" class=\"dataframe\">\n",
       "  <thead>\n",
       "    <tr style=\"text-align: right;\">\n",
       "      <th></th>\n",
       "      <th>feature</th>\n",
       "      <th>shap_value</th>\n",
       "      <th>abs_shap_value</th>\n",
       "    </tr>\n",
       "  </thead>\n",
       "  <tbody>\n",
       "    <tr>\n",
       "      <th>0</th>\n",
       "      <td>mean_HR_sleep</td>\n",
       "      <td>2.449665</td>\n",
       "      <td>2.449665</td>\n",
       "    </tr>\n",
       "    <tr>\n",
       "      <th>9</th>\n",
       "      <td>Heart Rate</td>\n",
       "      <td>1.036343</td>\n",
       "      <td>1.036343</td>\n",
       "    </tr>\n",
       "    <tr>\n",
       "      <th>3</th>\n",
       "      <td>RR_var_sleep</td>\n",
       "      <td>0.751956</td>\n",
       "      <td>0.751956</td>\n",
       "    </tr>\n",
       "    <tr>\n",
       "      <th>10</th>\n",
       "      <td>Other</td>\n",
       "      <td>-0.136952</td>\n",
       "      <td>3.270037</td>\n",
       "    </tr>\n",
       "  </tbody>\n",
       "</table>\n",
       "</div>"
      ],
      "text/plain": [
       "          feature  shap_value  abs_shap_value\n",
       "0   mean_HR_sleep    2.449665        2.449665\n",
       "9      Heart Rate    1.036343        1.036343\n",
       "3    RR_var_sleep    0.751956        0.751956\n",
       "10          Other   -0.136952        3.270037"
      ]
     },
     "execution_count": 28,
     "metadata": {},
     "output_type": "execute_result"
    }
   ],
   "source": [
    "top_features_new = top_features.head(3)\n",
    "top_features_new.loc[len(top_features.index)] = ['Other', sum(top_features['shap_value'][3:]), sum(top_features['abs_shap_value'][3:])]"
   ]
  },
  {
   "cell_type": "code",
   "execution_count": null,
   "metadata": {},
   "outputs": [],
   "source": [
    "import matplotlib.pyplot as plt\n",
    "import seaborn as sns\n",
    "\n",
    "sns.set(font_scale = 1.2)\n",
    "plt.figure(figsize=(8,8))\n",
    "\n",
    "labels = top_features_new['feature']\n",
    "sizes = top_features_new['relative_importance']\n",
    "# colors = ['darkblue', 'mediumblue', 'dodgerblue','black']  # Different shades of green for visual appeal\n",
    "\n",
    "# Create a pie chart with a hole in the middle (donut chart)\n",
    "fig, ax = plt.subplots()\n",
    "wedges, texts, autotexts = ax.pie(sizes, \n",
    "                                  labels=labels, \n",
    "                                  autopct='%0.1f%%', \n",
    "                                  startangle=90, \n",
    "                                  pctdistance=0.80,\n",
    "                                  explode=[0.025, 0.025, 0.025, 0.025],\n",
    "                                  colors=sns.color_palette('Set2'))\n",
    "\n",
    "# Add a circle at the center to create a donut-like chart\n",
    "hole = plt.Circle((0, 0), 0.6, facecolor='white')\n",
    "plt.gcf().gca().add_artist(hole)\n",
    "\n",
    "for text in texts:\n",
    "    text.set_fontweight('bold')\n",
    "    # text.set_horizontalalignment('center')\n",
    " \n",
    "# Customize percent labels\n",
    "for autotext in autotexts:\n",
    "    # autotext.set_horizontalalignment('center')\n",
    "    autotext.set_fontstyle('italic')\n",
    "\n",
    "ax.axis('equal')  # Equal aspect ratio ensures that pie is drawn as a circle.\n",
    "plt.title('Top 3 Factors Influencing Prediction')\n",
    "plt.tight_layout()\n",
    "plt.show()"
   ]
  }
 ],
 "metadata": {
  "kernelspec": {
   "display_name": "Python 3",
   "language": "python",
   "name": "python3"
  },
  "language_info": {
   "codemirror_mode": {
    "name": "ipython",
    "version": 3
   },
   "file_extension": ".py",
   "mimetype": "text/x-python",
   "name": "python",
   "nbconvert_exporter": "python",
   "pygments_lexer": "ipython3",
   "version": "3.11.9"
  }
 },
 "nbformat": 4,
 "nbformat_minor": 2
}
