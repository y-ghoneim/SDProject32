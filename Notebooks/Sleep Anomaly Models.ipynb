{
 "cells": [
  {
   "cell_type": "code",
   "execution_count": 1,
   "metadata": {},
   "outputs": [
    {
     "name": "stdout",
     "output_type": "stream",
     "text": [
      "Collecting imbalanced-learn\n",
      "  Downloading imbalanced_learn-0.12.2-py3-none-any.whl.metadata (8.2 kB)\n",
      "Requirement already satisfied: numpy>=1.17.3 in c:\\users\\acer\\appdata\\local\\packages\\pythonsoftwarefoundation.python.3.11_qbz5n2kfra8p0\\localcache\\local-packages\\python311\\site-packages (from imbalanced-learn) (1.26.1)\n",
      "Requirement already satisfied: scipy>=1.5.0 in c:\\users\\acer\\appdata\\local\\packages\\pythonsoftwarefoundation.python.3.11_qbz5n2kfra8p0\\localcache\\local-packages\\python311\\site-packages (from imbalanced-learn) (1.11.3)\n",
      "Requirement already satisfied: scikit-learn>=1.0.2 in c:\\users\\acer\\appdata\\local\\packages\\pythonsoftwarefoundation.python.3.11_qbz5n2kfra8p0\\localcache\\local-packages\\python311\\site-packages (from imbalanced-learn) (1.3.2)\n",
      "Requirement already satisfied: joblib>=1.1.1 in c:\\users\\acer\\appdata\\local\\packages\\pythonsoftwarefoundation.python.3.11_qbz5n2kfra8p0\\localcache\\local-packages\\python311\\site-packages (from imbalanced-learn) (1.3.2)\n",
      "Requirement already satisfied: threadpoolctl>=2.0.0 in c:\\users\\acer\\appdata\\local\\packages\\pythonsoftwarefoundation.python.3.11_qbz5n2kfra8p0\\localcache\\local-packages\\python311\\site-packages (from imbalanced-learn) (3.2.0)\n",
      "Downloading imbalanced_learn-0.12.2-py3-none-any.whl (257 kB)\n",
      "   ---------------------------------------- 0.0/258.0 kB ? eta -:--:--\n",
      "   ---------------------------------------- 0.0/258.0 kB ? eta -:--:--\n",
      "   - -------------------------------------- 10.2/258.0 kB ? eta -:--:--\n",
      "   ---- ---------------------------------- 30.7/258.0 kB 330.3 kB/s eta 0:00:01\n",
      "   --------- ----------------------------- 61.4/258.0 kB 544.7 kB/s eta 0:00:01\n",
      "   ---------------------------------------  256.0/258.0 kB 1.7 MB/s eta 0:00:01\n",
      "   ---------------------------------------- 258.0/258.0 kB 1.6 MB/s eta 0:00:00\n",
      "Installing collected packages: imbalanced-learn\n",
      "Successfully installed imbalanced-learn-0.12.2\n",
      "Note: you may need to restart the kernel to use updated packages.\n"
     ]
    }
   ],
   "source": [
    "%pip install imbalanced-learn"
   ]
  },
  {
   "cell_type": "code",
   "execution_count": 2,
   "metadata": {},
   "outputs": [],
   "source": [
    "import pandas as pd\n",
    "import numpy as np\n",
    "from sklearn.model_selection import train_test_split\n",
    "from sklearn.preprocessing import StandardScaler\n",
    "from sklearn.impute import SimpleImputer\n",
    "from sklearn.svm import OneClassSVM\n",
    "from sklearn.ensemble import IsolationForest\n",
    "from sklearn.metrics import classification_report, roc_auc_score\n",
    "from imblearn.over_sampling import SMOTE"
   ]
  },
  {
   "cell_type": "code",
   "execution_count": 3,
   "metadata": {},
   "outputs": [
    {
     "name": "stdout",
     "output_type": "stream",
     "text": [
      "Evaluation with SMOTE:\n",
      "One-class SVM Report:\n",
      "               precision    recall  f1-score   support\n",
      "\n",
      "         0.0       0.96      0.27      0.42       271\n",
      "         1.0       0.02      0.57      0.04         7\n",
      "\n",
      "    accuracy                           0.28       278\n",
      "   macro avg       0.49      0.42      0.23       278\n",
      "weighted avg       0.94      0.28      0.41       278\n",
      "\n",
      "ROC-AUC for SVM: 0.42040063257775434\n",
      "Isolation Forest Report:\n",
      "               precision    recall  f1-score   support\n",
      "\n",
      "         0.0       0.97      0.85      0.91       271\n",
      "         1.0       0.02      0.14      0.04         7\n",
      "\n",
      "    accuracy                           0.83       278\n",
      "   macro avg       0.50      0.49      0.47       278\n",
      "weighted avg       0.95      0.83      0.88       278\n",
      "\n",
      "ROC-AUC for Isolation Forest: 0.4939377965208223\n"
     ]
    }
   ],
   "source": [
    "# Load the dataset\n",
    "data = pd.read_csv('..\\Dataset\\Aggregated_Sleep.csv')\n",
    "\n",
    "# Removing unnecessary columns\n",
    "data_cleaned = data.drop(['patient_id', 'window_start'], axis=1)\n",
    "\n",
    "# Handle missing values by imputing with median\n",
    "imputer = SimpleImputer(strategy='median')\n",
    "data_cleaned[data_cleaned.columns] = imputer.fit_transform(data_cleaned)\n",
    "\n",
    "# Split data into features and target\n",
    "X = data_cleaned.drop('agitation', axis=1)\n",
    "y = data_cleaned['agitation']\n",
    "\n",
    "# Split the data into training and test sets\n",
    "X_train, X_test, y_train, y_test = train_test_split(X, y, test_size=0.3, random_state=42, stratify=y)\n",
    "\n",
    "# Apply SMOTE to the training data\n",
    "smote = SMOTE(random_state=42)\n",
    "X_train_smote, y_train_smote = smote.fit_resample(X_train, y_train)\n",
    "\n",
    "# Scaling the data\n",
    "scaler = StandardScaler()\n",
    "X_train_smote_scaled = scaler.fit_transform(X_train_smote)\n",
    "X_test_scaled = scaler.transform(X_test)\n",
    "\n",
    "# One-class SVM model trained on SMOTE data\n",
    "svm_model_smote = OneClassSVM(kernel='rbf', gamma='auto').fit(X_train_smote_scaled)\n",
    "\n",
    "# Isolation Forest model trained on SMOTE data\n",
    "iso_forest_model_smote = IsolationForest(n_estimators=100, contamination='auto', random_state=42).fit(X_train_smote_scaled)\n",
    "\n",
    "# Making predictions with SMOTE-trained models\n",
    "svm_preds_smote = svm_model_smote.predict(X_test_scaled)\n",
    "iso_forest_preds_smote = iso_forest_model_smote.predict(X_test_scaled)\n",
    "\n",
    "# Convert predictions from -1, 1 to 0, 1\n",
    "svm_preds_smote = (svm_preds_smote == -1).astype(int)\n",
    "iso_forest_preds_smote = (iso_forest_preds_smote == -1).astype(int)\n",
    "\n",
    "# Evaluate models trained with SMOTE\n",
    "print(\"Evaluation with SMOTE:\")\n",
    "print(\"One-class SVM Report:\\n\", classification_report(y_test, svm_preds_smote))\n",
    "print(\"ROC-AUC for SVM:\", roc_auc_score(y_test, svm_preds_smote))\n",
    "print(\"Isolation Forest Report:\\n\", classification_report(y_test, iso_forest_preds_smote))\n",
    "print(\"ROC-AUC for Isolation Forest:\", roc_auc_score(y_test, iso_forest_preds_smote))"
   ]
  }
 ],
 "metadata": {
  "kernelspec": {
   "display_name": "Python 3",
   "language": "python",
   "name": "python3"
  },
  "language_info": {
   "codemirror_mode": {
    "name": "ipython",
    "version": 3
   },
   "file_extension": ".py",
   "mimetype": "text/x-python",
   "name": "python",
   "nbconvert_exporter": "python",
   "pygments_lexer": "ipython3",
   "version": "3.11.9"
  }
 },
 "nbformat": 4,
 "nbformat_minor": 2
}
