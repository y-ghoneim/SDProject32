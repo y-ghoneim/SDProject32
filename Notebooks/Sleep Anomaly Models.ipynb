{
 "cells": [
  {
   "cell_type": "code",
   "execution_count": null,
   "metadata": {},
   "outputs": [],
   "source": [
    "%pip install imbalanced-learn"
   ]
  },
  {
   "cell_type": "code",
   "execution_count": null,
   "metadata": {},
   "outputs": [],
   "source": [
    "import pandas as pd\n",
    "import numpy as np\n",
    "from sklearn.model_selection import train_test_split\n",
    "from sklearn.preprocessing import StandardScaler\n",
    "from sklearn.impute import SimpleImputer\n",
    "from sklearn.svm import OneClassSVM\n",
    "from sklearn.ensemble import IsolationForest\n",
    "from sklearn.metrics import classification_report, roc_auc_score\n",
    "from imblearn.over_sampling import SMOTE"
   ]
  },
  {
   "cell_type": "code",
   "execution_count": null,
   "metadata": {},
   "outputs": [],
   "source": [
    "# Load the dataset\n",
    "data = pd.read_csv('..\\Dataset\\Aggregated_Sleep.csv')\n",
    "\n",
    "# Removing unnecessary columns\n",
    "data_cleaned = data.drop(['patient_id', 'window_start'], axis=1)\n",
    "\n",
    "# Handle missing values by imputing with median\n",
    "imputer = SimpleImputer(strategy='median')\n",
    "data_cleaned[data_cleaned.columns] = imputer.fit_transform(data_cleaned)\n",
    "\n",
    "# Split data into features and target\n",
    "X = data_cleaned.drop('agitation', axis=1)\n",
    "y = data_cleaned['agitation']\n",
    "\n",
    "# Split the data into training and test sets\n",
    "X_train, X_test, y_train, y_test = train_test_split(X, y, test_size=0.3, random_state=42, stratify=y)\n",
    "\n",
    "# Apply SMOTE to the training data\n",
    "smote = SMOTE(random_state=42)\n",
    "X_train_smote, y_train_smote = smote.fit_resample(X_train, y_train)\n",
    "\n",
    "# Scaling the data\n",
    "scaler = StandardScaler()\n",
    "X_train_smote_scaled = scaler.fit_transform(X_train_smote)\n",
    "X_test_scaled = scaler.transform(X_test)\n",
    "\n",
    "# One-class SVM model trained on SMOTE data\n",
    "svm_model_smote = OneClassSVM(kernel='rbf', gamma='auto').fit(X_train_smote_scaled)\n",
    "\n",
    "# Isolation Forest model trained on SMOTE data\n",
    "iso_forest_model_smote = IsolationForest(n_estimators=100, contamination='auto', random_state=42).fit(X_train_smote_scaled)\n",
    "\n",
    "# Making predictions with SMOTE-trained models\n",
    "svm_preds_smote = svm_model_smote.predict(X_test_scaled)\n",
    "iso_forest_preds_smote = iso_forest_model_smote.predict(X_test_scaled)\n",
    "\n",
    "# Convert predictions from -1, 1 to 0, 1\n",
    "svm_preds_smote = (svm_preds_smote == -1).astype(int)\n",
    "iso_forest_preds_smote = (iso_forest_preds_smote == -1).astype(int)\n",
    "\n",
    "# Evaluate models trained with SMOTE\n",
    "print(\"Evaluation with SMOTE:\")\n",
    "print(\"One-class SVM Report:\\n\", classification_report(y_test, svm_preds_smote))\n",
    "print(\"ROC-AUC for SVM:\", roc_auc_score(y_test, svm_preds_smote))\n",
    "print(\"Isolation Forest Report:\\n\", classification_report(y_test, iso_forest_preds_smote))\n",
    "print(\"ROC-AUC for Isolation Forest:\", roc_auc_score(y_test, iso_forest_preds_smote))"
   ]
  }
 ],
 "metadata": {
  "language_info": {
   "name": "python"
  }
 },
 "nbformat": 4,
 "nbformat_minor": 2
}
