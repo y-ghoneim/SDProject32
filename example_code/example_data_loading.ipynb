{
 "cells": [
  {
   "attachments": {},
   "cell_type": "markdown",
   "metadata": {},
   "source": [
    "# Data Loading Example:"
   ]
  },
  {
   "attachments": {},
   "cell_type": "markdown",
   "metadata": {},
   "source": [
    "## DataFrame Loading:"
   ]
  },
  {
   "cell_type": "code",
   "execution_count": 1,
   "metadata": {},
   "outputs": [
    {
     "name": "stderr",
     "output_type": "stream",
     "text": [
      "d:\\Anaconda3\\envs\\tihm\\lib\\site-packages\\tqdm\\auto.py:22: TqdmWarning: IProgress not found. Please update jupyter and ipywidgets. See https://ipywidgets.readthedocs.io/en/stable/user_install.html\n",
      "  from .autonotebook import tqdm as notebook_tqdm\n"
     ]
    }
   ],
   "source": [
    "from data_loader import TIHM # import the TIHM loader"
   ]
  },
  {
   "cell_type": "code",
   "execution_count": 2,
   "metadata": {},
   "outputs": [],
   "source": [
    "# Please change the path with the path of your dataset\n",
    "DPATH = '../Dataset/'"
   ]
  },
  {
   "cell_type": "code",
   "execution_count": 3,
   "metadata": {},
   "outputs": [],
   "source": [
    "tihm = TIHM(root=DPATH)"
   ]
  },
  {
   "attachments": {},
   "cell_type": "markdown",
   "metadata": {},
   "source": [
    "Data can be easily accessed through attributes of the TIHM class, such as in the below:"
   ]
  },
  {
   "cell_type": "code",
   "execution_count": 4,
   "metadata": {},
   "outputs": [
    {
     "data": {
      "text/plain": [
       "(1030559, 3)"
      ]
     },
     "execution_count": 4,
     "metadata": {},
     "output_type": "execute_result"
    }
   ],
   "source": [
    "tihm.activity_raw.shape # raw activity data"
   ]
  },
  {
   "cell_type": "code",
   "execution_count": 5,
   "metadata": {},
   "outputs": [
    {
     "data": {
      "text/plain": [
       "(2722, 10)"
      ]
     },
     "execution_count": 5,
     "metadata": {},
     "output_type": "execute_result"
    }
   ],
   "source": [
    "activity = tihm.activity # aggregated activity data\n",
    "activity.shape"
   ]
  },
  {
   "cell_type": "code",
   "execution_count": 6,
   "metadata": {},
   "outputs": [
    {
     "data": {
      "text/html": [
       "<div>\n",
       "<style scoped>\n",
       "    .dataframe tbody tr th:only-of-type {\n",
       "        vertical-align: middle;\n",
       "    }\n",
       "\n",
       "    .dataframe tbody tr th {\n",
       "        vertical-align: top;\n",
       "    }\n",
       "\n",
       "    .dataframe thead th {\n",
       "        text-align: right;\n",
       "    }\n",
       "</style>\n",
       "<table border=\"1\" class=\"dataframe\">\n",
       "  <thead>\n",
       "    <tr style=\"text-align: right;\">\n",
       "      <th>location_name</th>\n",
       "      <th>Back Door</th>\n",
       "      <th>Bathroom</th>\n",
       "      <th>Bedroom</th>\n",
       "      <th>Fridge Door</th>\n",
       "      <th>Front Door</th>\n",
       "      <th>Hallway</th>\n",
       "      <th>Kitchen</th>\n",
       "      <th>Lounge</th>\n",
       "    </tr>\n",
       "  </thead>\n",
       "  <tbody>\n",
       "    <tr>\n",
       "      <th>count</th>\n",
       "      <td>2135.000000</td>\n",
       "      <td>2496.000000</td>\n",
       "      <td>2526.000000</td>\n",
       "      <td>2472.000000</td>\n",
       "      <td>2453.000000</td>\n",
       "      <td>2523.000000</td>\n",
       "      <td>2556.000000</td>\n",
       "      <td>2281.000000</td>\n",
       "    </tr>\n",
       "    <tr>\n",
       "      <th>mean</th>\n",
       "      <td>22.597658</td>\n",
       "      <td>32.863381</td>\n",
       "      <td>51.913302</td>\n",
       "      <td>44.014159</td>\n",
       "      <td>23.761517</td>\n",
       "      <td>76.886247</td>\n",
       "      <td>88.932707</td>\n",
       "      <td>79.249014</td>\n",
       "    </tr>\n",
       "    <tr>\n",
       "      <th>std</th>\n",
       "      <td>25.593749</td>\n",
       "      <td>22.500095</td>\n",
       "      <td>35.156386</td>\n",
       "      <td>26.635970</td>\n",
       "      <td>22.906572</td>\n",
       "      <td>40.083370</td>\n",
       "      <td>41.767526</td>\n",
       "      <td>45.354658</td>\n",
       "    </tr>\n",
       "    <tr>\n",
       "      <th>min</th>\n",
       "      <td>1.000000</td>\n",
       "      <td>1.000000</td>\n",
       "      <td>1.000000</td>\n",
       "      <td>1.000000</td>\n",
       "      <td>1.000000</td>\n",
       "      <td>1.000000</td>\n",
       "      <td>1.000000</td>\n",
       "      <td>1.000000</td>\n",
       "    </tr>\n",
       "    <tr>\n",
       "      <th>25%</th>\n",
       "      <td>7.000000</td>\n",
       "      <td>16.000000</td>\n",
       "      <td>30.000000</td>\n",
       "      <td>23.000000</td>\n",
       "      <td>10.000000</td>\n",
       "      <td>48.500000</td>\n",
       "      <td>59.000000</td>\n",
       "      <td>46.000000</td>\n",
       "    </tr>\n",
       "    <tr>\n",
       "      <th>50%</th>\n",
       "      <td>14.000000</td>\n",
       "      <td>30.000000</td>\n",
       "      <td>44.000000</td>\n",
       "      <td>40.000000</td>\n",
       "      <td>18.000000</td>\n",
       "      <td>73.000000</td>\n",
       "      <td>86.000000</td>\n",
       "      <td>74.000000</td>\n",
       "    </tr>\n",
       "    <tr>\n",
       "      <th>75%</th>\n",
       "      <td>28.000000</td>\n",
       "      <td>46.000000</td>\n",
       "      <td>63.000000</td>\n",
       "      <td>60.000000</td>\n",
       "      <td>30.000000</td>\n",
       "      <td>102.000000</td>\n",
       "      <td>114.000000</td>\n",
       "      <td>108.000000</td>\n",
       "    </tr>\n",
       "    <tr>\n",
       "      <th>max</th>\n",
       "      <td>314.000000</td>\n",
       "      <td>250.000000</td>\n",
       "      <td>264.000000</td>\n",
       "      <td>173.000000</td>\n",
       "      <td>244.000000</td>\n",
       "      <td>264.000000</td>\n",
       "      <td>255.000000</td>\n",
       "      <td>259.000000</td>\n",
       "    </tr>\n",
       "  </tbody>\n",
       "</table>\n",
       "</div>"
      ],
      "text/plain": [
       "location_name    Back Door     Bathroom      Bedroom  Fridge Door  \\\n",
       "count          2135.000000  2496.000000  2526.000000  2472.000000   \n",
       "mean             22.597658    32.863381    51.913302    44.014159   \n",
       "std              25.593749    22.500095    35.156386    26.635970   \n",
       "min               1.000000     1.000000     1.000000     1.000000   \n",
       "25%               7.000000    16.000000    30.000000    23.000000   \n",
       "50%              14.000000    30.000000    44.000000    40.000000   \n",
       "75%              28.000000    46.000000    63.000000    60.000000   \n",
       "max             314.000000   250.000000   264.000000   173.000000   \n",
       "\n",
       "location_name   Front Door      Hallway      Kitchen       Lounge  \n",
       "count          2453.000000  2523.000000  2556.000000  2281.000000  \n",
       "mean             23.761517    76.886247    88.932707    79.249014  \n",
       "std              22.906572    40.083370    41.767526    45.354658  \n",
       "min               1.000000     1.000000     1.000000     1.000000  \n",
       "25%              10.000000    48.500000    59.000000    46.000000  \n",
       "50%              18.000000    73.000000    86.000000    74.000000  \n",
       "75%              30.000000   102.000000   114.000000   108.000000  \n",
       "max             244.000000   264.000000   255.000000   259.000000  "
      ]
     },
     "execution_count": 6,
     "metadata": {},
     "output_type": "execute_result"
    }
   ],
   "source": [
    "activity.describe()"
   ]
  },
  {
   "attachments": {},
   "cell_type": "markdown",
   "metadata": {},
   "source": [
    "Similarly, the sleep and physiology raw and aggregated data can be loaded:"
   ]
  },
  {
   "cell_type": "code",
   "execution_count": 7,
   "metadata": {},
   "outputs": [],
   "source": [
    "physiology_raw = tihm.physiology_raw\n",
    "physiology = tihm.physiology"
   ]
  },
  {
   "cell_type": "code",
   "execution_count": 8,
   "metadata": {},
   "outputs": [],
   "source": [
    "sleep_raw = tihm.sleep_raw\n",
    "sleep = tihm.sleep"
   ]
  },
  {
   "cell_type": "code",
   "execution_count": 9,
   "metadata": {},
   "outputs": [
    {
     "data": {
      "text/html": [
       "<div>\n",
       "<style scoped>\n",
       "    .dataframe tbody tr th:only-of-type {\n",
       "        vertical-align: middle;\n",
       "    }\n",
       "\n",
       "    .dataframe tbody tr th {\n",
       "        vertical-align: top;\n",
       "    }\n",
       "\n",
       "    .dataframe thead th {\n",
       "        text-align: right;\n",
       "    }\n",
       "</style>\n",
       "<table border=\"1\" class=\"dataframe\">\n",
       "  <thead>\n",
       "    <tr style=\"text-align: right;\">\n",
       "      <th></th>\n",
       "      <th>heart_rate_mean</th>\n",
       "      <th>heart_rate_std</th>\n",
       "      <th>respiratory_rate_mean</th>\n",
       "      <th>respiratory_rate_std</th>\n",
       "    </tr>\n",
       "  </thead>\n",
       "  <tbody>\n",
       "    <tr>\n",
       "      <th>count</th>\n",
       "      <td>835.000000</td>\n",
       "      <td>834.000000</td>\n",
       "      <td>835.000000</td>\n",
       "      <td>834.000000</td>\n",
       "    </tr>\n",
       "    <tr>\n",
       "      <th>mean</th>\n",
       "      <td>60.684513</td>\n",
       "      <td>4.699769</td>\n",
       "      <td>15.080796</td>\n",
       "      <td>1.661542</td>\n",
       "    </tr>\n",
       "    <tr>\n",
       "      <th>std</th>\n",
       "      <td>5.887328</td>\n",
       "      <td>1.691474</td>\n",
       "      <td>1.626671</td>\n",
       "      <td>0.523421</td>\n",
       "    </tr>\n",
       "    <tr>\n",
       "      <th>min</th>\n",
       "      <td>46.479691</td>\n",
       "      <td>0.730949</td>\n",
       "      <td>11.649194</td>\n",
       "      <td>0.767287</td>\n",
       "    </tr>\n",
       "    <tr>\n",
       "      <th>25%</th>\n",
       "      <td>56.099285</td>\n",
       "      <td>3.595620</td>\n",
       "      <td>13.924752</td>\n",
       "      <td>1.342108</td>\n",
       "    </tr>\n",
       "    <tr>\n",
       "      <th>50%</th>\n",
       "      <td>60.907692</td>\n",
       "      <td>4.349723</td>\n",
       "      <td>14.678947</td>\n",
       "      <td>1.546222</td>\n",
       "    </tr>\n",
       "    <tr>\n",
       "      <th>75%</th>\n",
       "      <td>64.889231</td>\n",
       "      <td>5.408334</td>\n",
       "      <td>15.682249</td>\n",
       "      <td>1.822515</td>\n",
       "    </tr>\n",
       "    <tr>\n",
       "      <th>max</th>\n",
       "      <td>77.882353</td>\n",
       "      <td>15.470920</td>\n",
       "      <td>20.598055</td>\n",
       "      <td>5.791331</td>\n",
       "    </tr>\n",
       "  </tbody>\n",
       "</table>\n",
       "</div>"
      ],
      "text/plain": [
       "       heart_rate_mean  heart_rate_std  respiratory_rate_mean  \\\n",
       "count       835.000000      834.000000             835.000000   \n",
       "mean         60.684513        4.699769              15.080796   \n",
       "std           5.887328        1.691474               1.626671   \n",
       "min          46.479691        0.730949              11.649194   \n",
       "25%          56.099285        3.595620              13.924752   \n",
       "50%          60.907692        4.349723              14.678947   \n",
       "75%          64.889231        5.408334              15.682249   \n",
       "max          77.882353       15.470920              20.598055   \n",
       "\n",
       "       respiratory_rate_std  \n",
       "count            834.000000  \n",
       "mean               1.661542  \n",
       "std                0.523421  \n",
       "min                0.767287  \n",
       "25%                1.342108  \n",
       "50%                1.546222  \n",
       "75%                1.822515  \n",
       "max                5.791331  "
      ]
     },
     "execution_count": 9,
     "metadata": {},
     "output_type": "execute_result"
    }
   ],
   "source": [
    "sleep.describe()"
   ]
  },
  {
   "attachments": {},
   "cell_type": "markdown",
   "metadata": {},
   "source": [
    "And finally, a combined aggregated version, along with the targets:"
   ]
  },
  {
   "cell_type": "code",
   "execution_count": 10,
   "metadata": {},
   "outputs": [],
   "source": [
    "data = tihm.data\n",
    "target = tihm.target"
   ]
  },
  {
   "cell_type": "code",
   "execution_count": 11,
   "metadata": {},
   "outputs": [
    {
     "data": {
      "text/html": [
       "<div>\n",
       "<style scoped>\n",
       "    .dataframe tbody tr th:only-of-type {\n",
       "        vertical-align: middle;\n",
       "    }\n",
       "\n",
       "    .dataframe tbody tr th {\n",
       "        vertical-align: top;\n",
       "    }\n",
       "\n",
       "    .dataframe thead th {\n",
       "        text-align: right;\n",
       "    }\n",
       "</style>\n",
       "<table border=\"1\" class=\"dataframe\">\n",
       "  <thead>\n",
       "    <tr style=\"text-align: right;\">\n",
       "      <th></th>\n",
       "      <th>Blood pressure</th>\n",
       "      <th>Agitation</th>\n",
       "      <th>Body water</th>\n",
       "      <th>Pulse</th>\n",
       "      <th>Weight</th>\n",
       "      <th>Body temperature</th>\n",
       "    </tr>\n",
       "  </thead>\n",
       "  <tbody>\n",
       "    <tr>\n",
       "      <th>count</th>\n",
       "      <td>251.000000</td>\n",
       "      <td>114.000000</td>\n",
       "      <td>63.000000</td>\n",
       "      <td>76.000000</td>\n",
       "      <td>4.0</td>\n",
       "      <td>1.0</td>\n",
       "    </tr>\n",
       "    <tr>\n",
       "      <th>mean</th>\n",
       "      <td>1.215139</td>\n",
       "      <td>1.175439</td>\n",
       "      <td>1.079365</td>\n",
       "      <td>1.250000</td>\n",
       "      <td>1.0</td>\n",
       "      <td>1.0</td>\n",
       "    </tr>\n",
       "    <tr>\n",
       "      <th>std</th>\n",
       "      <td>0.538080</td>\n",
       "      <td>0.425838</td>\n",
       "      <td>0.326348</td>\n",
       "      <td>0.613732</td>\n",
       "      <td>0.0</td>\n",
       "      <td>NaN</td>\n",
       "    </tr>\n",
       "    <tr>\n",
       "      <th>min</th>\n",
       "      <td>1.000000</td>\n",
       "      <td>1.000000</td>\n",
       "      <td>1.000000</td>\n",
       "      <td>1.000000</td>\n",
       "      <td>1.0</td>\n",
       "      <td>1.0</td>\n",
       "    </tr>\n",
       "    <tr>\n",
       "      <th>25%</th>\n",
       "      <td>1.000000</td>\n",
       "      <td>1.000000</td>\n",
       "      <td>1.000000</td>\n",
       "      <td>1.000000</td>\n",
       "      <td>1.0</td>\n",
       "      <td>1.0</td>\n",
       "    </tr>\n",
       "    <tr>\n",
       "      <th>50%</th>\n",
       "      <td>1.000000</td>\n",
       "      <td>1.000000</td>\n",
       "      <td>1.000000</td>\n",
       "      <td>1.000000</td>\n",
       "      <td>1.0</td>\n",
       "      <td>1.0</td>\n",
       "    </tr>\n",
       "    <tr>\n",
       "      <th>75%</th>\n",
       "      <td>1.000000</td>\n",
       "      <td>1.000000</td>\n",
       "      <td>1.000000</td>\n",
       "      <td>1.000000</td>\n",
       "      <td>1.0</td>\n",
       "      <td>1.0</td>\n",
       "    </tr>\n",
       "    <tr>\n",
       "      <th>max</th>\n",
       "      <td>4.000000</td>\n",
       "      <td>3.000000</td>\n",
       "      <td>3.000000</td>\n",
       "      <td>5.000000</td>\n",
       "      <td>1.0</td>\n",
       "      <td>1.0</td>\n",
       "    </tr>\n",
       "  </tbody>\n",
       "</table>\n",
       "</div>"
      ],
      "text/plain": [
       "       Blood pressure   Agitation  Body water      Pulse  Weight  \\\n",
       "count      251.000000  114.000000   63.000000  76.000000     4.0   \n",
       "mean         1.215139    1.175439    1.079365   1.250000     1.0   \n",
       "std          0.538080    0.425838    0.326348   0.613732     0.0   \n",
       "min          1.000000    1.000000    1.000000   1.000000     1.0   \n",
       "25%          1.000000    1.000000    1.000000   1.000000     1.0   \n",
       "50%          1.000000    1.000000    1.000000   1.000000     1.0   \n",
       "75%          1.000000    1.000000    1.000000   1.000000     1.0   \n",
       "max          4.000000    3.000000    3.000000   5.000000     1.0   \n",
       "\n",
       "       Body temperature  \n",
       "count               1.0  \n",
       "mean                1.0  \n",
       "std                 NaN  \n",
       "min                 1.0  \n",
       "25%                 1.0  \n",
       "50%                 1.0  \n",
       "75%                 1.0  \n",
       "max                 1.0  "
      ]
     },
     "execution_count": 11,
     "metadata": {},
     "output_type": "execute_result"
    }
   ],
   "source": [
    "target.describe()"
   ]
  },
  {
   "attachments": {},
   "cell_type": "markdown",
   "metadata": {},
   "source": [
    "Similarly, the demographics can be loaded using the dataset attribute `demographic_raw` and `demographic`:"
   ]
  },
  {
   "cell_type": "code",
   "execution_count": 12,
   "metadata": {},
   "outputs": [
    {
     "data": {
      "text/html": [
       "<div>\n",
       "<style scoped>\n",
       "    .dataframe tbody tr th:only-of-type {\n",
       "        vertical-align: middle;\n",
       "    }\n",
       "\n",
       "    .dataframe tbody tr th {\n",
       "        vertical-align: top;\n",
       "    }\n",
       "\n",
       "    .dataframe thead th {\n",
       "        text-align: right;\n",
       "    }\n",
       "</style>\n",
       "<table border=\"1\" class=\"dataframe\">\n",
       "  <thead>\n",
       "    <tr style=\"text-align: right;\">\n",
       "      <th></th>\n",
       "      <th>patient_id</th>\n",
       "      <th>age</th>\n",
       "      <th>sex</th>\n",
       "    </tr>\n",
       "  </thead>\n",
       "  <tbody>\n",
       "    <tr>\n",
       "      <th>0</th>\n",
       "      <td>b9d58</td>\n",
       "      <td>(70, 80]</td>\n",
       "      <td>Female</td>\n",
       "    </tr>\n",
       "    <tr>\n",
       "      <th>1</th>\n",
       "      <td>c55f8</td>\n",
       "      <td>(80, 90]</td>\n",
       "      <td>Female</td>\n",
       "    </tr>\n",
       "    <tr>\n",
       "      <th>2</th>\n",
       "      <td>16f4b</td>\n",
       "      <td>(80, 90]</td>\n",
       "      <td>Male</td>\n",
       "    </tr>\n",
       "    <tr>\n",
       "      <th>3</th>\n",
       "      <td>fd100</td>\n",
       "      <td>(90, 110]</td>\n",
       "      <td>Female</td>\n",
       "    </tr>\n",
       "    <tr>\n",
       "      <th>4</th>\n",
       "      <td>1fbe4</td>\n",
       "      <td>(80, 90]</td>\n",
       "      <td>Male</td>\n",
       "    </tr>\n",
       "  </tbody>\n",
       "</table>\n",
       "</div>"
      ],
      "text/plain": [
       "  patient_id        age     sex\n",
       "0      b9d58   (70, 80]  Female\n",
       "1      c55f8   (80, 90]  Female\n",
       "2      16f4b   (80, 90]    Male\n",
       "3      fd100  (90, 110]  Female\n",
       "4      1fbe4   (80, 90]    Male"
      ]
     },
     "execution_count": 12,
     "metadata": {},
     "output_type": "execute_result"
    }
   ],
   "source": [
    "tihm.demographic_raw.head()"
   ]
  },
  {
   "cell_type": "code",
   "execution_count": 13,
   "metadata": {},
   "outputs": [
    {
     "data": {
      "text/html": [
       "<div>\n",
       "<style scoped>\n",
       "    .dataframe tbody tr th:only-of-type {\n",
       "        vertical-align: middle;\n",
       "    }\n",
       "\n",
       "    .dataframe tbody tr th {\n",
       "        vertical-align: top;\n",
       "    }\n",
       "\n",
       "    .dataframe thead th {\n",
       "        text-align: right;\n",
       "    }\n",
       "</style>\n",
       "<table border=\"1\" class=\"dataframe\">\n",
       "  <thead>\n",
       "    <tr style=\"text-align: right;\">\n",
       "      <th></th>\n",
       "      <th>patient_id</th>\n",
       "      <th>age</th>\n",
       "      <th>sex</th>\n",
       "    </tr>\n",
       "  </thead>\n",
       "  <tbody>\n",
       "    <tr>\n",
       "      <th>49</th>\n",
       "      <td>0697d</td>\n",
       "      <td>(80, 90]</td>\n",
       "      <td>Male</td>\n",
       "    </tr>\n",
       "    <tr>\n",
       "      <th>35</th>\n",
       "      <td>099bc</td>\n",
       "      <td>(80, 90]</td>\n",
       "      <td>Female</td>\n",
       "    </tr>\n",
       "    <tr>\n",
       "      <th>16</th>\n",
       "      <td>0cda9</td>\n",
       "      <td>(70, 80]</td>\n",
       "      <td>Female</td>\n",
       "    </tr>\n",
       "    <tr>\n",
       "      <th>7</th>\n",
       "      <td>0d5ef</td>\n",
       "      <td>(70, 80]</td>\n",
       "      <td>Male</td>\n",
       "    </tr>\n",
       "    <tr>\n",
       "      <th>20</th>\n",
       "      <td>0efe8</td>\n",
       "      <td>(70, 80]</td>\n",
       "      <td>Female</td>\n",
       "    </tr>\n",
       "  </tbody>\n",
       "</table>\n",
       "</div>"
      ],
      "text/plain": [
       "   patient_id       age     sex\n",
       "49      0697d  (80, 90]    Male\n",
       "35      099bc  (80, 90]  Female\n",
       "16      0cda9  (70, 80]  Female\n",
       "7       0d5ef  (70, 80]    Male\n",
       "20      0efe8  (70, 80]  Female"
      ]
     },
     "execution_count": 13,
     "metadata": {},
     "output_type": "execute_result"
    }
   ],
   "source": [
    "tihm.demographic.head()"
   ]
  },
  {
   "cell_type": "code",
   "execution_count": 14,
   "metadata": {},
   "outputs": [
    {
     "data": {
      "text/plain": [
       "['age', 'sex']"
      ]
     },
     "execution_count": 14,
     "metadata": {},
     "output_type": "execute_result"
    }
   ],
   "source": [
    "tihm.demographic_types"
   ]
  },
  {
   "attachments": {},
   "cell_type": "markdown",
   "metadata": {},
   "source": [
    "The documentation for this data loading class is:"
   ]
  },
  {
   "cell_type": "code",
   "execution_count": 15,
   "metadata": {},
   "outputs": [
    {
     "name": "stdout",
     "output_type": "stream",
     "text": [
      "Help on class TIHM in module data_loader:\n",
      "\n",
      "class TIHM(builtins.object)\n",
      " |  TIHM(root: 'str' = './')\n",
      " |  \n",
      " |  Methods defined here:\n",
      " |  \n",
      " |  __init__(self, root: 'str' = './')\n",
      " |      The TIHM dataset\n",
      " |      as is here: https://github.com/PBarnaghi/TIHM1.5-Data.\n",
      " |      \n",
      " |      This class allows you to load the different csvs\n",
      " |      using the attributes of the class. If the data\n",
      " |      is not at the :code:`root` given, it will be\n",
      " |      downloaded.\n",
      " |      \n",
      " |      \n",
      " |      Examples\n",
      " |      ---------\n",
      " |      \n",
      " |      The following are examples for loading the data\n",
      " |      using this class.\n",
      " |      \n",
      " |      .. code-block::\n",
      " |      \n",
      " |          >>> dataset = TIHM(root='./data/')\n",
      " |          >>> activity_data = dataset.activity\n",
      " |          >>> all_data = dataset.data\n",
      " |          >>> len(dataset)\n",
      " |          2802\n",
      " |      \n",
      " |      \n",
      " |      Arguments\n",
      " |      ---------\n",
      " |      \n",
      " |      - root: str, optional:\n",
      " |          The file path to where the TIHM\n",
      " |          data files are stored.\n",
      " |          Defaults to :code:`'./'`.\n",
      " |  \n",
      " |  __len__(self) -> 'int'\n",
      " |  \n",
      " |  process_activity(self) -> 'pd.DataFrame'\n",
      " |      Process the activity data by taking the sum\n",
      " |      of the frequency of sensor firings for each\n",
      " |      patient_id, each day.\n",
      " |  \n",
      " |  process_demographics(self) -> 'pd.DataFrame'\n",
      " |  \n",
      " |  process_physiology(self) -> 'pd.DataFrame'\n",
      " |      Process the physiology data by taking the mean\n",
      " |      and std of all of the device values for each\n",
      " |      patient_id, each day.\n",
      " |  \n",
      " |  process_sleep(self) -> 'pd.DataFrame'\n",
      " |      Process the sleep data by taking the mean\n",
      " |      and std of the heart rate and respiratory rate\n",
      " |      for each patient_id, each day.\n",
      " |  \n",
      " |  process_target(self) -> 'pd.DataFrame'\n",
      " |  \n",
      " |  ----------------------------------------------------------------------\n",
      " |  Readonly properties defined here:\n",
      " |  \n",
      " |  activity\n",
      " |      The aggregated activity data.\n",
      " |  \n",
      " |  activity_raw\n",
      " |      The raw activity csv without any aggregation.\n",
      " |  \n",
      " |  activity_types\n",
      " |      The names of the activity features that are aggregated.\n",
      " |  \n",
      " |  data\n",
      " |      The aggregated activity, sleep and physiology data.\n",
      " |  \n",
      " |  data_types\n",
      " |      The names of the data features that are aggregated.\n",
      " |  \n",
      " |  demographic\n",
      " |      The demographics data.\n",
      " |  \n",
      " |  demographic_raw\n",
      " |      The raw demographics csv data.\n",
      " |  \n",
      " |  demographic_types\n",
      " |      The demographic features that are available.\n",
      " |  \n",
      " |  physiology\n",
      " |      The aggregated physiology data.\n",
      " |  \n",
      " |  physiology_raw\n",
      " |      The raw physiology csv without any aggregation.\n",
      " |  \n",
      " |  physiology_types\n",
      " |      The names of the physiology features that are aggregated.\n",
      " |  \n",
      " |  sleep\n",
      " |      The aggregated sleep data.\n",
      " |  \n",
      " |  sleep_raw\n",
      " |      The raw sleep csv without any aggregation.\n",
      " |  \n",
      " |  sleep_types\n",
      " |      The names of the sleep features that are aggregated.\n",
      " |  \n",
      " |  target\n",
      " |      The targets for the attribute :code:`.data`.\n",
      " |  \n",
      " |  target_raw\n",
      " |      The raw label csv without any aggregation.\n",
      " |  \n",
      " |  target_types\n",
      " |      The names of the targets that are aggregated.\n",
      " |  \n",
      " |  ----------------------------------------------------------------------\n",
      " |  Data descriptors defined here:\n",
      " |  \n",
      " |  __dict__\n",
      " |      dictionary for instance variables (if defined)\n",
      " |  \n",
      " |  __weakref__\n",
      " |      list of weak references to the object (if defined)\n",
      "\n"
     ]
    }
   ],
   "source": [
    "help(TIHM)"
   ]
  },
  {
   "attachments": {},
   "cell_type": "markdown",
   "metadata": {},
   "source": [
    "## Pytorch Dataset (Compatible with DataLoader):"
   ]
  },
  {
   "cell_type": "code",
   "execution_count": 16,
   "metadata": {},
   "outputs": [],
   "source": [
    "import torch\n",
    "from torch.utils import data as torchdata\n",
    "\n",
    "from data_loader import TIHMDataset # import the pytorch dataset TIHM loader"
   ]
  },
  {
   "cell_type": "code",
   "execution_count": 17,
   "metadata": {},
   "outputs": [],
   "source": [
    "# Please change the path with the path of your dataset\n",
    "DPATH = '../Dataset/'"
   ]
  },
  {
   "cell_type": "code",
   "execution_count": 18,
   "metadata": {},
   "outputs": [],
   "source": [
    "tihm_torch = TIHMDataset(root=DPATH, train=True, n_days=7, normalise='id')"
   ]
  },
  {
   "attachments": {},
   "cell_type": "markdown",
   "metadata": {},
   "source": [
    "Data is already normalised using Scikit-Learn's StandardScaler unless `normalise=None` is given. The normalisation is done before the data is rolled to create sequences of days. The normalisation can be done based on the global statistics (`normalise='global'`) or the same patient ID statistics (`normalise='id'`)"
   ]
  },
  {
   "attachments": {},
   "cell_type": "markdown",
   "metadata": {},
   "source": [
    "This can be used like any torch dataset:"
   ]
  },
  {
   "cell_type": "code",
   "execution_count": 19,
   "metadata": {},
   "outputs": [],
   "source": [
    "train_dl = torchdata.DataLoader(\n",
    "    tihm_torch,\n",
    "    batch_size=100,\n",
    "    shuffle=True,\n",
    "    )"
   ]
  },
  {
   "cell_type": "code",
   "execution_count": 20,
   "metadata": {},
   "outputs": [
    {
     "name": "stdout",
     "output_type": "stream",
     "text": [
      "torch.Size([100, 7, 28])\n",
      "torch.Size([100, 7, 28])\n",
      "torch.Size([100, 7, 28])\n",
      "torch.Size([100, 7, 28])\n",
      "torch.Size([100, 7, 28])\n",
      "torch.Size([100, 7, 28])\n",
      "torch.Size([100, 7, 28])\n",
      "torch.Size([100, 7, 28])\n",
      "torch.Size([100, 7, 28])\n",
      "torch.Size([100, 7, 28])\n",
      "torch.Size([100, 7, 28])\n",
      "torch.Size([100, 7, 28])\n",
      "torch.Size([100, 7, 28])\n",
      "torch.Size([100, 7, 28])\n",
      "torch.Size([100, 7, 28])\n",
      "torch.Size([100, 7, 28])\n",
      "torch.Size([90, 7, 28])\n"
     ]
    }
   ],
   "source": [
    "for x, y in train_dl:\n",
    "    print(x.shape)"
   ]
  },
  {
   "attachments": {},
   "cell_type": "markdown",
   "metadata": {},
   "source": [
    "The documentation for this dataset class is:"
   ]
  },
  {
   "cell_type": "code",
   "execution_count": 21,
   "metadata": {},
   "outputs": [
    {
     "name": "stdout",
     "output_type": "stream",
     "text": [
      "Help on class TIHMDataset in module data_loader:\n",
      "\n",
      "class TIHMDataset(torch.utils.data.dataset.Dataset)\n",
      " |  TIHMDataset(root: 'str' = './', train=True, imputer=SimpleImputer(), n_days: 'int' = 1, normalise: 'typing.Union[str, None]' = 'global')\n",
      " |  \n",
      " |  Method resolution order:\n",
      " |      TIHMDataset\n",
      " |      torch.utils.data.dataset.Dataset\n",
      " |      typing.Generic\n",
      " |      builtins.object\n",
      " |  \n",
      " |  Methods defined here:\n",
      " |  \n",
      " |  __getitem__(self, index: 'int')\n",
      " |  \n",
      " |  __init__(self, root: 'str' = './', train=True, imputer=SimpleImputer(), n_days: 'int' = 1, normalise: 'typing.Union[str, None]' = 'global')\n",
      " |      A pytorch dataset which wraps the TIHM data. If \n",
      " |      the TIHM data is not downloaded, then it will be\n",
      " |      in the directory given.\n",
      " |      \n",
      " |      This can be used with dataloaders or on its own.     \n",
      " |      \n",
      " |      \n",
      " |      Examples\n",
      " |      ---------\n",
      " |      \n",
      " |      .. code-block::\n",
      " |      \n",
      " |          >>> dataset = TIHMDataset(root='./data/')\n",
      " |      \n",
      " |      Arguments\n",
      " |      ---------\n",
      " |      \n",
      " |      - root: str, optional:\n",
      " |          The file path to where the TIHM\n",
      " |          data files are stored.\n",
      " |          Defaults to :code:`'./'`.\n",
      " |      \n",
      " |      - train: bool, optional:\n",
      " |          Whether to return the training or testing\n",
      " |          data when indexed. \n",
      " |          Defaults to :code:`True`.\n",
      " |      \n",
      " |      - imputer: _type_, optional:\n",
      " |          The imputer to use to impute the missing\n",
      " |          values. This should be of the same structure\n",
      " |          as a Scikit-Learn imputer.\n",
      " |          Defaults to :code:`impute.SimpleImputer()`.\n",
      " |      \n",
      " |      - n_days: int, optional:\n",
      " |          The number of days to wrap into\n",
      " |          a single data point. This is useful\n",
      " |          when using recurrent networks. If this\n",
      " |          value is more than :code:`1`, then the \n",
      " |          returned data will be of shape\n",
      " |          (n_data_points, n_days, n_features).\n",
      " |          Defaults to :code:`1`.\n",
      " |      \n",
      " |      - normalise: typing.Union[str, None], optional:\n",
      " |          Whether to normalise the data before \n",
      " |          rolling it using n_days. This can\n",
      " |          be any of:\n",
      " |      \n",
      " |          - :code:`'global'`: Statistics are based             on all of the data. \n",
      " |      \n",
      " |          - :code:`'id'`: Statistics are based on the             patient id if available. Otherwise global             statistics are used.\n",
      " |      \n",
      " |          - :code:`None`: No normalisation is done.\n",
      " |          \n",
      " |          Defaults to :code:`'global'`.\n",
      " |  \n",
      " |  __len__(self)\n",
      " |  \n",
      " |  ----------------------------------------------------------------------\n",
      " |  Readonly properties defined here:\n",
      " |  \n",
      " |  feature_names\n",
      " |      The names of the features in the x data.\n",
      " |  \n",
      " |  target_names\n",
      " |      The names of the features in the y data.\n",
      " |  \n",
      " |  ----------------------------------------------------------------------\n",
      " |  Data and other attributes defined here:\n",
      " |  \n",
      " |  __parameters__ = ()\n",
      " |  \n",
      " |  ----------------------------------------------------------------------\n",
      " |  Methods inherited from torch.utils.data.dataset.Dataset:\n",
      " |  \n",
      " |  __add__(self, other: 'Dataset[T_co]') -> 'ConcatDataset[T_co]'\n",
      " |  \n",
      " |  ----------------------------------------------------------------------\n",
      " |  Data descriptors inherited from torch.utils.data.dataset.Dataset:\n",
      " |  \n",
      " |  __dict__\n",
      " |      dictionary for instance variables (if defined)\n",
      " |  \n",
      " |  __weakref__\n",
      " |      list of weak references to the object (if defined)\n",
      " |  \n",
      " |  ----------------------------------------------------------------------\n",
      " |  Data and other attributes inherited from torch.utils.data.dataset.Dataset:\n",
      " |  \n",
      " |  __orig_bases__ = (typing.Generic[+T_co],)\n",
      " |  \n",
      " |  ----------------------------------------------------------------------\n",
      " |  Class methods inherited from typing.Generic:\n",
      " |  \n",
      " |  __class_getitem__(params) from builtins.type\n",
      " |  \n",
      " |  __init_subclass__(*args, **kwargs) from builtins.type\n",
      " |      This method is called when a class is subclassed.\n",
      " |      \n",
      " |      The default implementation does nothing. It may be\n",
      " |      overridden to extend subclasses.\n",
      "\n"
     ]
    }
   ],
   "source": [
    "help(TIHMDataset)"
   ]
  },
  {
   "cell_type": "code",
   "execution_count": null,
   "metadata": {},
   "outputs": [],
   "source": []
  }
 ],
 "metadata": {
  "kernelspec": {
   "display_name": "tihm",
   "language": "python",
   "name": "python3"
  },
  "language_info": {
   "codemirror_mode": {
    "name": "ipython",
    "version": 3
   },
   "file_extension": ".py",
   "mimetype": "text/x-python",
   "name": "python",
   "nbconvert_exporter": "python",
   "pygments_lexer": "ipython3",
   "version": "3.9.0"
  },
  "orig_nbformat": 4,
  "vscode": {
   "interpreter": {
    "hash": "8ffa9458eb812bc86d8ec9c6172a4488b6504c6d9033306e2462dfb6e563f266"
   }
  }
 },
 "nbformat": 4,
 "nbformat_minor": 2
}
